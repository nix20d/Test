{
  "cells": [
    {
      "cell_type": "markdown",
      "metadata": {
        "id": "view-in-github",
        "colab_type": "text"
      },
      "source": [
        "<a href=\"https://colab.research.google.com/github/nix20d/Test/blob/main/%D0%93%D0%B5%D0%BD%D0%B5%D1%80%D0%B0%D1%86%D0%B8%D1%8F_%D0%94%D0%B8%D0%BF_%D0%A4%D0%B5%D0%B9%D0%BA%D0%B0.ipynb\" target=\"_parent\"><img src=\"https://colab.research.google.com/assets/colab-badge.svg\" alt=\"Open In Colab\"/></a>"
      ]
    },
    {
      "cell_type": "code",
      "execution_count": null,
      "metadata": {
        "id": "0aHr4Fo-7IRy",
        "cellView": "form"
      },
      "outputs": [],
      "source": [
        "#@markdown #Установка зависимостей и загрузка модели\n",
        "from IPython.display import clear_output\n",
        "!git clone https://github.com/s0md3v/roop.git\n",
        "%cd roop\n",
        "!pip install -r requirements.txt\n",
        "\n",
        "!wget https://huggingface.co/ezioruan/inswapper_128.onnx/resolve/main/inswapper_128.onnx -O inswapper_128.onnx\n",
        "!mkdir models\n",
        "!mv inswapper_128.onnx ./models\n",
        "clear_output()\n",
        "print(\"Готово!\")"
      ]
    },
    {
      "cell_type": "code",
      "execution_count": null,
      "metadata": {
        "id": "lDYdfL3L71i1"
      },
      "outputs": [],
      "source": [
        "#@title #Дип Фейк (нажмите \"показать код\")\n",
        "!python run.py --target /content/video.mp4 --output-video-quality 80 --source /content/photo.jpg -o /content/swapped.mp4 --execution-provider cuda --frame-processor face_swapper face_enhancer"
      ]
    },
    {
      "cell_type": "markdown",
      "source": [
        "-target - это название видеофайла или фото в котором хотите заменить лицо\n",
        "\n",
        "-source - это фото которое хотите вставить\n",
        "\n",
        "-o - это конечное название файла\n",
        "\n",
        "-output-video-quality - это качество выходного изображения/видео (от 1 до 100) чем ниже, тем лучше)"
      ],
      "metadata": {
        "id": "dfoN-EY-fB54"
      }
    }
  ],
  "metadata": {
    "accelerator": "GPU",
    "colab": {
      "provenance": [],
      "include_colab_link": true
    },
    "kernelspec": {
      "display_name": "Python 3",
      "name": "python3"
    },
    "language_info": {
      "name": "python"
    }
  },
  "nbformat": 4,
  "nbformat_minor": 0
}